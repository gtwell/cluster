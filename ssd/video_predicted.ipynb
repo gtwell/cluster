{
 "cells": [
  {
   "cell_type": "code",
   "execution_count": 35,
   "metadata": {},
   "outputs": [],
   "source": [
    "from __future__ import print_function\n",
    "import sys\n",
    "import os\n",
    "import argparse\n",
    "import torch\n",
    "import torch.nn as nn\n",
    "import torch.backends.cudnn as cudnn\n",
    "import torchvision.transforms as transforms\n",
    "from torch.autograd import Variable\n",
    "from data.ant_test import ANT_ROOT, ANT_CLASSES as labelmap\n",
    "from PIL import Image\n",
    "from data.ant_test import ANTAnnotationTransform, ANTDetection, ANT_CLASSES\n",
    "from data import BaseTransform\n",
    "import torch.utils.data as data\n",
    "from ssd import build_ssd\n",
    "import cv2\n"
   ]
  },
  {
   "cell_type": "code",
   "execution_count": 36,
   "metadata": {},
   "outputs": [
    {
     "name": "stderr",
     "output_type": "stream",
     "text": [
      "D:\\ant_dec\\ssd.pytorch\\ssd.py:35: UserWarning: volatile was removed and now has no effect. Use `with torch.no_grad():` instead.\n",
      "  self.priors = Variable(self.priorbox.forward(), volatile=True)\n",
      "D:\\ant_dec\\ssd.pytorch\\layers\\modules\\l2norm.py:17: UserWarning: nn.init.constant is now deprecated in favor of nn.init.constant_.\n",
      "  init.constant(self.weight,self.gamma)\n"
     ]
    },
    {
     "data": {
      "text/plain": [
       "SSD(\n",
       "  (vgg): ModuleList(\n",
       "    (0): Conv2d(3, 64, kernel_size=(3, 3), stride=(1, 1), padding=(1, 1))\n",
       "    (1): ReLU(inplace)\n",
       "    (2): Conv2d(64, 64, kernel_size=(3, 3), stride=(1, 1), padding=(1, 1))\n",
       "    (3): ReLU(inplace)\n",
       "    (4): MaxPool2d(kernel_size=2, stride=2, padding=0, dilation=1, ceil_mode=False)\n",
       "    (5): Conv2d(64, 128, kernel_size=(3, 3), stride=(1, 1), padding=(1, 1))\n",
       "    (6): ReLU(inplace)\n",
       "    (7): Conv2d(128, 128, kernel_size=(3, 3), stride=(1, 1), padding=(1, 1))\n",
       "    (8): ReLU(inplace)\n",
       "    (9): MaxPool2d(kernel_size=2, stride=2, padding=0, dilation=1, ceil_mode=False)\n",
       "    (10): Conv2d(128, 256, kernel_size=(3, 3), stride=(1, 1), padding=(1, 1))\n",
       "    (11): ReLU(inplace)\n",
       "    (12): Conv2d(256, 256, kernel_size=(3, 3), stride=(1, 1), padding=(1, 1))\n",
       "    (13): ReLU(inplace)\n",
       "    (14): Conv2d(256, 256, kernel_size=(3, 3), stride=(1, 1), padding=(1, 1))\n",
       "    (15): ReLU(inplace)\n",
       "    (16): MaxPool2d(kernel_size=2, stride=2, padding=0, dilation=1, ceil_mode=True)\n",
       "    (17): Conv2d(256, 512, kernel_size=(3, 3), stride=(1, 1), padding=(1, 1))\n",
       "    (18): ReLU(inplace)\n",
       "    (19): Conv2d(512, 512, kernel_size=(3, 3), stride=(1, 1), padding=(1, 1))\n",
       "    (20): ReLU(inplace)\n",
       "    (21): Conv2d(512, 512, kernel_size=(3, 3), stride=(1, 1), padding=(1, 1))\n",
       "    (22): ReLU(inplace)\n",
       "    (23): MaxPool2d(kernel_size=2, stride=2, padding=0, dilation=1, ceil_mode=False)\n",
       "    (24): Conv2d(512, 512, kernel_size=(3, 3), stride=(1, 1), padding=(1, 1))\n",
       "    (25): ReLU(inplace)\n",
       "    (26): Conv2d(512, 512, kernel_size=(3, 3), stride=(1, 1), padding=(1, 1))\n",
       "    (27): ReLU(inplace)\n",
       "    (28): Conv2d(512, 512, kernel_size=(3, 3), stride=(1, 1), padding=(1, 1))\n",
       "    (29): ReLU(inplace)\n",
       "    (30): MaxPool2d(kernel_size=3, stride=1, padding=1, dilation=1, ceil_mode=False)\n",
       "    (31): Conv2d(512, 1024, kernel_size=(3, 3), stride=(1, 1), padding=(6, 6), dilation=(6, 6))\n",
       "    (32): ReLU(inplace)\n",
       "    (33): Conv2d(1024, 1024, kernel_size=(1, 1), stride=(1, 1))\n",
       "    (34): ReLU(inplace)\n",
       "  )\n",
       "  (L2Norm): L2Norm()\n",
       "  (extras): ModuleList(\n",
       "    (0): Conv2d(1024, 256, kernel_size=(1, 1), stride=(1, 1))\n",
       "    (1): Conv2d(256, 512, kernel_size=(3, 3), stride=(2, 2), padding=(1, 1))\n",
       "    (2): Conv2d(512, 128, kernel_size=(1, 1), stride=(1, 1))\n",
       "    (3): Conv2d(128, 256, kernel_size=(3, 3), stride=(2, 2), padding=(1, 1))\n",
       "    (4): Conv2d(256, 128, kernel_size=(1, 1), stride=(1, 1))\n",
       "    (5): Conv2d(128, 256, kernel_size=(3, 3), stride=(1, 1))\n",
       "    (6): Conv2d(256, 128, kernel_size=(1, 1), stride=(1, 1))\n",
       "    (7): Conv2d(128, 256, kernel_size=(3, 3), stride=(1, 1))\n",
       "  )\n",
       "  (loc): ModuleList(\n",
       "    (0): Conv2d(512, 16, kernel_size=(3, 3), stride=(1, 1), padding=(1, 1))\n",
       "    (1): Conv2d(1024, 24, kernel_size=(3, 3), stride=(1, 1), padding=(1, 1))\n",
       "    (2): Conv2d(512, 24, kernel_size=(3, 3), stride=(1, 1), padding=(1, 1))\n",
       "    (3): Conv2d(256, 24, kernel_size=(3, 3), stride=(1, 1), padding=(1, 1))\n",
       "    (4): Conv2d(256, 16, kernel_size=(3, 3), stride=(1, 1), padding=(1, 1))\n",
       "    (5): Conv2d(256, 16, kernel_size=(3, 3), stride=(1, 1), padding=(1, 1))\n",
       "  )\n",
       "  (conf): ModuleList(\n",
       "    (0): Conv2d(512, 12, kernel_size=(3, 3), stride=(1, 1), padding=(1, 1))\n",
       "    (1): Conv2d(1024, 18, kernel_size=(3, 3), stride=(1, 1), padding=(1, 1))\n",
       "    (2): Conv2d(512, 18, kernel_size=(3, 3), stride=(1, 1), padding=(1, 1))\n",
       "    (3): Conv2d(256, 18, kernel_size=(3, 3), stride=(1, 1), padding=(1, 1))\n",
       "    (4): Conv2d(256, 12, kernel_size=(3, 3), stride=(1, 1), padding=(1, 1))\n",
       "    (5): Conv2d(256, 12, kernel_size=(3, 3), stride=(1, 1), padding=(1, 1))\n",
       "  )\n",
       "  (softmax): Softmax()\n",
       ")"
      ]
     },
     "execution_count": 36,
     "metadata": {},
     "output_type": "execute_result"
    }
   ],
   "source": [
    "num_classes = len(ANT_CLASSES) + 1 # +1 background\n",
    "net = build_ssd('test', 300, num_classes) # initialize SSD\n",
    "net.load_state_dict(torch.load('weights/ssd300_ant_2900.pth'))\n",
    "net.eval()"
   ]
  },
  {
   "cell_type": "markdown",
   "metadata": {},
   "source": [
    "**`opencv`单张图片做预测**"
   ]
  },
  {
   "cell_type": "code",
   "execution_count": 68,
   "metadata": {
    "scrolled": true
   },
   "outputs": [],
   "source": [
    "img = cv2.imread('./ANT/Testimages/11381045_b352a47d8c.jpg')\n",
    "transform = BaseTransform(net.size, (104, 117, 123))\n",
    "\n",
    "x = torch.from_numpy(transform(img)[0]).permute(2, 0, 1)\n",
    "x = Variable(x.unsqueeze(0))\n",
    "\n",
    "y = net(x)      # forward pass\n",
    "detections = y.data\n",
    "scale = torch.Tensor([img.shape[1], img.shape[0],img.shape[1], img.shape[0]])\n",
    "for i in range(detections.size(1)):\n",
    "    j = 0\n",
    "    while detections[0, i, j, 0] >= 0.2:\n",
    "        score = detections[0, i, j, 0]\n",
    "        label_name = labelmap[i-1]\n",
    "        pt = (detections[0, i, j, 1:]*scale).cpu().numpy()\n",
    "        coords = (pt[0], pt[1], pt[2], pt[3])\n",
    "\n",
    "\n",
    "        cv2.rectangle(img, (coords[0], coords[1]),(coords[2], coords[3]), (0, 255, 0), 1)\n",
    "        cv2.putText(img, '{}:{:.3f}'.format(label_name, score.item()), (coords[0], coords[1]), \\\n",
    "                    cv2.FONT_HERSHEY_COMPLEX, 1, (0, 0, 255), 1)\n",
    "        j += 1\n",
    "        \n",
    "cv2.imshow('image', img)\n",
    "cv2.waitKey(1) & 0xFF == ord('q')\n",
    "cv2.destroyAllWindows()\n"
   ]
  },
  {
   "cell_type": "markdown",
   "metadata": {},
   "source": [
    "**`opencv`读取视频进行目标检测**"
   ]
  },
  {
   "cell_type": "code",
   "execution_count": 69,
   "metadata": {},
   "outputs": [
    {
     "name": "stderr",
     "output_type": "stream",
     "text": [
      "D:\\ant_dec\\ssd.pytorch\\ssd.py:35: UserWarning: volatile was removed and now has no effect. Use `with torch.no_grad():` instead.\n",
      "  self.priors = Variable(self.priorbox.forward(), volatile=True)\n",
      "D:\\ant_dec\\ssd.pytorch\\layers\\modules\\l2norm.py:17: UserWarning: nn.init.constant is now deprecated in favor of nn.init.constant_.\n",
      "  init.constant(self.weight,self.gamma)\n"
     ]
    }
   ],
   "source": [
    "cap = cv2.VideoCapture(r\"C://Users/gtw/Desktop/video/Two Giant Killer Hornet Colonies Fight to the Death.mp4\")\n",
    "num_classes = len(ANT_CLASSES) + 1 # +1 background\n",
    "net = build_ssd('test', 300, num_classes) # initialize SSD\n",
    "net.load_state_dict(torch.load('weights/ssd300_ant_2900.pth'))\n",
    "net.eval()\n",
    "\n",
    "while cap.isOpened():\n",
    "    ok, frame = cap.read()  # 读取一帧数据\n",
    "    # ipdb.set_trace()\n",
    "    if not ok:\n",
    "        break\n",
    "    transform = BaseTransform(net.size, (104, 117, 123))\n",
    "\n",
    "#     image = Image.fromarray(cv2.cvtColor(frame, cv2.COLOR_BGR2RGB))\n",
    "    x = torch.from_numpy(transform(frame)[0]).permute(2, 0, 1)\n",
    "    x = Variable(x.unsqueeze(0))\n",
    "\n",
    "    y = net(x)      # forward pass\n",
    "    detections = y.data\n",
    "    scale = torch.Tensor([frame.shape[1], frame.shape[0],frame.shape[1], frame.shape[0]])\n",
    "    for i in range(detections.size(1)):\n",
    "        j = 0\n",
    "        while detections[0, i, j, 0] >= 0.3:\n",
    "            score = detections[0, i, j, 0]\n",
    "            label_name = labelmap[i-1]\n",
    "            pt = (detections[0, i, j, 1:]*scale).cpu().numpy()\n",
    "            coords = (pt[0], pt[1], pt[2], pt[3])\n",
    "\n",
    "\n",
    "            cv2.rectangle(frame, (coords[0], coords[1]),(coords[2], coords[3]), (0, 255, 0), 1)\n",
    "            cv2.putText(frame, '{}:{:.3f}'.format(label_name, score.item()), (coords[0], coords[1]), \\\n",
    "                        cv2.FONT_HERSHEY_COMPLEX, 1, (0, 0, 255), 1)\n",
    "            j += 1\n",
    "            \n",
    "    cv2.imshow('images', frame)\n",
    "    if cv2.waitKey(1) & 0xFF == ord('q'):\n",
    "        break\n",
    "        \n",
    "cap.release()\n",
    "cv2.destroyAllWindows()"
   ]
  },
  {
   "cell_type": "code",
   "execution_count": null,
   "metadata": {},
   "outputs": [],
   "source": []
  }
 ],
 "metadata": {
  "kernelspec": {
   "display_name": "Python 3",
   "language": "python",
   "name": "python3"
  },
  "language_info": {
   "codemirror_mode": {
    "name": "ipython",
    "version": 3
   },
   "file_extension": ".py",
   "mimetype": "text/x-python",
   "name": "python",
   "nbconvert_exporter": "python",
   "pygments_lexer": "ipython3",
   "version": "3.6.3"
  }
 },
 "nbformat": 4,
 "nbformat_minor": 2
}
